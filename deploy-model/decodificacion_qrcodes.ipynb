{
 "cells": [
  {
   "attachments": {},
   "cell_type": "markdown",
   "metadata": {},
   "source": [
    "# Decodificación de códigos QR\n",
    "**Objetivo:** \n",
    "Se Utiliza la librería pyzbarpara decodificar el código QR en imagenes."
   ]
  },
  {
   "attachments": {},
   "cell_type": "markdown",
   "metadata": {},
   "source": [
    "## Preparación del notebook"
   ]
  },
  {
   "cell_type": "code",
   "execution_count": 3,
   "metadata": {},
   "outputs": [],
   "source": [
    "# Importar Librerias\n",
    "import cv2\n",
    "import numpy as np\n",
    "from pyzbar import pyzbar\n",
    "from PIL import Image, ImageDraw"
   ]
  },
  {
   "attachments": {},
   "cell_type": "markdown",
   "metadata": {},
   "source": [
    "## Función de decodificación de QRs"
   ]
  },
  {
   "cell_type": "code",
   "execution_count": 5,
   "metadata": {},
   "outputs": [],
   "source": [
    "def read_qr(path_read, path_write):\n",
    "    image = cv2.imread(path_read)\n",
    "    gray = cv2.cvtColor(image, cv2.COLOR_BGR2GRAY)\n",
    "    decoder = pyzbar.decode(gray)\n",
    "    data_decoded = ''\n",
    "\n",
    "    if len(decoder) != 0:\n",
    "        for decoded in decoder:\n",
    "            if decoded.type == 'QRCODE':\n",
    "                # Get the bounding box location of the QR Code\n",
    "                left, top, width, height = decoded.rect\n",
    "                qrcode = image.copy()\n",
    "\n",
    "                # Rotate QR Code, if necessary\n",
    "                if decoded.orientation is not None and decoded.orientation != 'UNKNOWN':\n",
    "                    if decoded.orientation == 'LEFT':\n",
    "                        # Rotate by 90 degrees clockwise\n",
    "                        qrcode = cv2.rotate(qrcode, cv2.ROTATE_90_CLOCKWISE)\n",
    "                    elif decoded.orientation == 'RIGHT':\n",
    "                        # Rotate by 270 degrees clockwise\n",
    "                        qrcode = cv2.rotate(qrcode, cv2.ROTATE_90_COUNTERCLOCKWISE)\n",
    "                    elif decoded.orientation == 'DOWN':\n",
    "                        # Rotate by 180 degrees clockwise\n",
    "                        qrcode = cv2.rotate(qrcode, cv2.ROTATE_180)\n",
    "\n",
    "                # Show Image\n",
    "                point_polygon = np.array(decoded.polygon)\n",
    "                cv2.polylines(qrcode, np.int32([point_polygon]), 1, (128, 0, 200), 2)\n",
    "                data_decoded = decoded.data.decode(\"utf-8\")\n",
    "                cv2.putText(qrcode, data_decoded, (10,10), cv2.FONT_HERSHEY_PLAIN, 0.7, (128, 0, 200), 1, cv2.LINE_AA)\n",
    "                cv2.imshow('QR decodificado', qrcode)\n",
    "                cv2.waitKey()\n",
    "                cv2.destroyAllWindows()      \n",
    "        # Save Image\n",
    "        cv2.imwrite(path_write, qrcode)\n",
    "\n",
    "    return data_decoded"
   ]
  },
  {
   "cell_type": "code",
   "execution_count": 9,
   "metadata": {},
   "outputs": [
    {
     "name": "stdout",
     "output_type": "stream",
     "text": [
      "Women marry men hoping they will change. Men marry women hoping they will not. So each is inevitably disappointed. (Albert Einstein)\n"
     ]
    }
   ],
   "source": [
    "# Prueba de función de decodificación\n",
    "data_qr = read_qr('get_predictions/imagenes_muestra/6601.jpg', path_write='get_predictions/imagenes_procesadas/result_6601_decoded.jpg')\n",
    "print(data_qr)"
   ]
  }
 ],
 "metadata": {
  "kernelspec": {
   "display_name": "dev-qrdetector",
   "language": "python",
   "name": "python3"
  },
  "language_info": {
   "codemirror_mode": {
    "name": "ipython",
    "version": 3
   },
   "file_extension": ".py",
   "mimetype": "text/x-python",
   "name": "python",
   "nbconvert_exporter": "python",
   "pygments_lexer": "ipython3",
   "version": "3.10.4"
  },
  "orig_nbformat": 4,
  "vscode": {
   "interpreter": {
    "hash": "94de170a92cd2d559c2345dac6f071cfac1cf0e7c0edc71a940460fc9e6f8476"
   }
  }
 },
 "nbformat": 4,
 "nbformat_minor": 2
}
